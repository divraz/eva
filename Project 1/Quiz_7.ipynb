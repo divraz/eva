{
  "nbformat": 4,
  "nbformat_minor": 0,
  "metadata": {
    "colab": {
      "name": "Quiz 7.ipynb",
      "version": "0.3.2",
      "provenance": [],
      "collapsed_sections": [],
      "include_colab_link": true
    },
    "kernelspec": {
      "name": "python3",
      "display_name": "Python 3"
    },
    "accelerator": "GPU"
  },
  "cells": [
    {
      "cell_type": "markdown",
      "metadata": {
        "id": "view-in-github",
        "colab_type": "text"
      },
      "source": [
        "<a href=\"https://colab.research.google.com/github/divyanshuraj6815/eva/blob/master/Project%201/Quiz_7.ipynb\" target=\"_parent\"><img src=\"https://colab.research.google.com/assets/colab-badge.svg\" alt=\"Open In Colab\"/></a>"
      ]
    },
    {
      "cell_type": "markdown",
      "metadata": {
        "id": "aNyZv-Ec52ot",
        "colab_type": "text"
      },
      "source": [
        "# **Import Libraries and modules**"
      ]
    },
    {
      "cell_type": "code",
      "metadata": {
        "id": "3m3w1Cw49Zkt",
        "colab_type": "code",
        "colab": {
          "base_uri": "https://localhost:8080/",
          "height": 34
        },
        "outputId": "9b26ec14-099f-4505-fcec-51daebec00e5"
      },
      "source": [
        "# https://keras.io/\n",
        "!pip install -q keras\n",
        "import keras\n",
        "import datetime\n",
        "print(datetime.datetime.now())"
      ],
      "execution_count": 2,
      "outputs": [
        {
          "output_type": "stream",
          "text": [
            "2019-09-04 14:43:41.634080\n"
          ],
          "name": "stdout"
        }
      ]
    },
    {
      "cell_type": "code",
      "metadata": {
        "id": "Eso6UHE080D4",
        "colab_type": "code",
        "colab": {
          "base_uri": "https://localhost:8080/",
          "height": 34
        },
        "outputId": "41e2956f-a4ca-4690-eded-ec7aed3e261f"
      },
      "source": [
        "import numpy as np\n",
        "\n",
        "from keras.models import Sequential\n",
        "from keras.layers import Dense, Dropout, Activation, Flatten, Add\n",
        "from keras.layers import Convolution2D, MaxPooling2D\n",
        "from keras.utils import np_utils\n",
        "\n",
        "from keras.datasets import mnist\n",
        "print(datetime.datetime.now())"
      ],
      "execution_count": 3,
      "outputs": [
        {
          "output_type": "stream",
          "text": [
            "2019-09-04 14:43:44.388891\n"
          ],
          "name": "stdout"
        }
      ]
    },
    {
      "cell_type": "markdown",
      "metadata": {
        "id": "zByEi95J86RD",
        "colab_type": "text"
      },
      "source": [
        "### Load pre-shuffled MNIST data into train and test sets"
      ]
    },
    {
      "cell_type": "code",
      "metadata": {
        "id": "7eRM0QWN83PV",
        "colab_type": "code",
        "colab": {
          "base_uri": "https://localhost:8080/",
          "height": 69
        },
        "outputId": "f8a3b983-459d-413c-8ffe-7a5921d957ca"
      },
      "source": [
        "(X_train, y_train), (X_test, y_test) = mnist.load_data()\n",
        "print(datetime.datetime.now())"
      ],
      "execution_count": 4,
      "outputs": [
        {
          "output_type": "stream",
          "text": [
            "Downloading data from https://s3.amazonaws.com/img-datasets/mnist.npz\n",
            "11493376/11490434 [==============================] - 11s 1us/step\n",
            "2019-09-04 14:44:00.344713\n"
          ],
          "name": "stdout"
        }
      ]
    },
    {
      "cell_type": "code",
      "metadata": {
        "id": "4a4Be72j8-ZC",
        "colab_type": "code",
        "colab": {
          "base_uri": "https://localhost:8080/",
          "height": 304
        },
        "outputId": "ed70d44a-4a5b-4bdd-8f64-49d531957d20"
      },
      "source": [
        "print (X_train.shape)\n",
        "from matplotlib import pyplot as plt\n",
        "%matplotlib inline\n",
        "plt.imshow(X_train[0])\n",
        "print(datetime.datetime.now())"
      ],
      "execution_count": 15,
      "outputs": [
        {
          "output_type": "stream",
          "text": [
            "(60000, 28, 28)\n",
            "2019-09-04 15:06:13.136333\n"
          ],
          "name": "stdout"
        },
        {
          "output_type": "display_data",
          "data": {
            "image/png": "[encoded data removed]",
            "text/plain": [
              "<Figure size 432x288 with 1 Axes>"
            ]
          },
          "metadata": {
            "tags": []
          }
        }
      ]
    },
    {
      "cell_type": "code",
      "metadata": {
        "id": "dkmprriw9AnZ",
        "colab_type": "code",
        "colab": {
          "base_uri": "https://localhost:8080/",
          "height": 34
        },
        "outputId": "64bc5a8a-381d-478b-8018-1a314c8cadbe"
      },
      "source": [
        "X_train = X_train.reshape(X_train.shape[0], 28, 28,1)\n",
        "X_test = X_test.reshape(X_test.shape[0], 28, 28,1)\n",
        "print(datetime.datetime.now())"
      ],
      "execution_count": 16,
      "outputs": [
        {
          "output_type": "stream",
          "text": [
            "2019-09-04 15:06:15.411162\n"
          ],
          "name": "stdout"
        }
      ]
    },
    {
      "cell_type": "code",
      "metadata": {
        "id": "X2m4YS4E9CRh",
        "colab_type": "code",
        "colab": {
          "base_uri": "https://localhost:8080/",
          "height": 34
        },
        "outputId": "f018f50a-8556-4c97-8692-37c0519c7bbf"
      },
      "source": [
        "X_train = X_train.astype('float32')\n",
        "X_test = X_test.astype('float32')\n",
        "X_train /= 255\n",
        "X_test /= 255\n",
        "print(datetime.datetime.now())"
      ],
      "execution_count": 17,
      "outputs": [
        {
          "output_type": "stream",
          "text": [
            "2019-09-04 15:06:18.391941\n"
          ],
          "name": "stdout"
        }
      ]
    },
    {
      "cell_type": "code",
      "metadata": {
        "id": "0Mn0vAYD9DvB",
        "colab_type": "code",
        "colab": {
          "base_uri": "https://localhost:8080/",
          "height": 34
        },
        "outputId": "ad1776fa-d252-42cc-b338-fe74458e550b"
      },
      "source": [
        "y_train[:10]\n",
        "print(datetime.datetime.now())"
      ],
      "execution_count": 18,
      "outputs": [
        {
          "output_type": "stream",
          "text": [
            "2019-09-04 15:06:43.946765\n"
          ],
          "name": "stdout"
        }
      ]
    },
    {
      "cell_type": "code",
      "metadata": {
        "id": "ZG8JiXR39FHC",
        "colab_type": "code",
        "colab": {
          "base_uri": "https://localhost:8080/",
          "height": 34
        },
        "outputId": "5401ae1a-cdcf-4796-f7c4-265b16a03d32"
      },
      "source": [
        "# Convert 1-dimensional class arrays to 10-dimensional class matrices\n",
        "Y_train = np_utils.to_categorical(y_train, 10)\n",
        "Y_test = np_utils.to_categorical(y_test, 10)\n",
        "print(datetime.datetime.now())"
      ],
      "execution_count": 19,
      "outputs": [
        {
          "output_type": "stream",
          "text": [
            "2019-09-04 15:06:50.345460\n"
          ],
          "name": "stdout"
        }
      ]
    },
    {
      "cell_type": "code",
      "metadata": {
        "id": "fYlFRvKS9HMB",
        "colab_type": "code",
        "colab": {
          "base_uri": "https://localhost:8080/",
          "height": 34
        },
        "outputId": "1b01ca06-47f3-4320-d7a2-bd75b0299c8e"
      },
      "source": [
        "Y_train[:10]\n",
        "print(datetime.datetime.now())"
      ],
      "execution_count": 20,
      "outputs": [
        {
          "output_type": "stream",
          "text": [
            "2019-09-04 15:06:52.028237\n"
          ],
          "name": "stdout"
        }
      ]
    },
    {
      "cell_type": "code",
      "metadata": {
        "id": "osKqT73Q9JJB",
        "colab_type": "code",
        "colab": {
          "base_uri": "https://localhost:8080/",
          "height": 1000
        },
        "outputId": "92aff44f-54dc-42e5-afd8-2e6f48734a20"
      },
      "source": [
        "## MAIN BLOCK\n",
        "\n",
        "from keras import layers, models\n",
        "\n",
        "img_width = 28\n",
        "img_height = 28\n",
        "img_channels = 1\n",
        "\n",
        "def quiz_7 (x):\n",
        "  \n",
        "  def add_common_layers (y):\n",
        "    y = layers.BatchNormalization ()(y)\n",
        "    y = layers.Activation ('relu')(y)\n",
        "    y = layers.Dropout (0.1)(y)\n",
        "    return y\n",
        "  \n",
        "  def addition (y):\n",
        "    y = layers.Add()(y)\n",
        "    return y\n",
        "  \n",
        "  def conv (y, channel_size, kernel_size, history, count, flag = 1):\n",
        "    y = layers.Conv2D (channel_size, (kernel_size, kernel_size), strides = (1, 1), padding = 'same')(y)\n",
        "    if flag == 1:\n",
        "      y = add_common_layers (y)\n",
        "    history.append (y)\n",
        "    count += 1\n",
        "    return (y, history, count)\n",
        "  \n",
        "  def block (y, channel_size):\n",
        "    history = list ()\n",
        "    count = 0\n",
        "    (y, history, count) = conv (y, channel_size, 3, history, count)\n",
        "    (y, history, count) = conv (addition ([y, history[0]]), channel_size, 3, history, count)\n",
        "    (y, history, count) = conv (addition ([y, history[0], history[1]]), channel_size, 3, history, count)\n",
        "    return y\n",
        "  \n",
        "  x = block (x, 48)\n",
        "  x = layers.MaxPooling2D((2, 2))(x)\n",
        "  x = block (x, 96)\n",
        "  x = layers.MaxPooling2D((2, 2))(x)\n",
        "  x = block (x, 192)\n",
        "  x = layers.Conv2D(10, (7, 7), use_bias=False)(x)\n",
        "  x = layers.Flatten()(x)\n",
        "  x = layers.Activation ('softmax')(x)\n",
        "  \n",
        "  return x\n",
        "\n",
        "image_tensor = layers.Input(shape=(img_height, img_width, img_channels))\n",
        "network_output = quiz_7 (image_tensor)\n",
        "  \n",
        "model = models.Model(inputs=[image_tensor], outputs=[network_output])\n",
        "print(model.summary())                  \n",
        " \n",
        "print(datetime.datetime.now())"
      ],
      "execution_count": 25,
      "outputs": [
        {
          "output_type": "stream",
          "text": [
            "Model: \"model_7\"\n",
            "__________________________________________________________________________________________________\n",
            "Layer (type)                    Output Shape         Param #     Connected to                     \n",
            "==================================================================================================\n",
            "input_12 (InputLayer)           (None, 28, 28, 1)    0                                            \n",
            "__________________________________________________________________________________________________\n",
            "conv2d_97 (Conv2D)              (None, 28, 28, 48)   480         input_12[0][0]                   \n",
            "__________________________________________________________________________________________________\n",
            "batch_normalization_92 (BatchNo (None, 28, 28, 48)   192         conv2d_97[0][0]                  \n",
            "__________________________________________________________________________________________________\n",
            "activation_94 (Activation)      (None, 28, 28, 48)   0           batch_normalization_92[0][0]     \n",
            "__________________________________________________________________________________________________\n",
            "dropout_92 (Dropout)            (None, 28, 28, 48)   0           activation_94[0][0]              \n",
            "__________________________________________________________________________________________________\n",
            "add_61 (Add)                    (None, 28, 28, 48)   0           dropout_92[0][0]                 \n",
            "                                                                 dropout_92[0][0]                 \n",
            "__________________________________________________________________________________________________\n",
            "conv2d_98 (Conv2D)              (None, 28, 28, 48)   20784       add_61[0][0]                     \n",
            "__________________________________________________________________________________________________\n",
            "batch_normalization_93 (BatchNo (None, 28, 28, 48)   192         conv2d_98[0][0]                  \n",
            "__________________________________________________________________________________________________\n",
            "activation_95 (Activation)      (None, 28, 28, 48)   0           batch_normalization_93[0][0]     \n",
            "__________________________________________________________________________________________________\n",
            "dropout_93 (Dropout)            (None, 28, 28, 48)   0           activation_95[0][0]              \n",
            "__________________________________________________________________________________________________\n",
            "add_62 (Add)                    (None, 28, 28, 48)   0           dropout_93[0][0]                 \n",
            "                                                                 dropout_92[0][0]                 \n",
            "                                                                 dropout_93[0][0]                 \n",
            "__________________________________________________________________________________________________\n",
            "conv2d_99 (Conv2D)              (None, 28, 28, 48)   20784       add_62[0][0]                     \n",
            "__________________________________________________________________________________________________\n",
            "batch_normalization_94 (BatchNo (None, 28, 28, 48)   192         conv2d_99[0][0]                  \n",
            "__________________________________________________________________________________________________\n",
            "activation_96 (Activation)      (None, 28, 28, 48)   0           batch_normalization_94[0][0]     \n",
            "__________________________________________________________________________________________________\n",
            "dropout_94 (Dropout)            (None, 28, 28, 48)   0           activation_96[0][0]              \n",
            "__________________________________________________________________________________________________\n",
            "max_pooling2d_17 (MaxPooling2D) (None, 14, 14, 48)   0           dropout_94[0][0]                 \n",
            "__________________________________________________________________________________________________\n",
            "conv2d_100 (Conv2D)             (None, 14, 14, 96)   41568       max_pooling2d_17[0][0]           \n",
            "__________________________________________________________________________________________________\n",
            "batch_normalization_95 (BatchNo (None, 14, 14, 96)   384         conv2d_100[0][0]                 \n",
            "__________________________________________________________________________________________________\n",
            "activation_97 (Activation)      (None, 14, 14, 96)   0           batch_normalization_95[0][0]     \n",
            "__________________________________________________________________________________________________\n",
            "dropout_95 (Dropout)            (None, 14, 14, 96)   0           activation_97[0][0]              \n",
            "__________________________________________________________________________________________________\n",
            "add_63 (Add)                    (None, 14, 14, 96)   0           dropout_95[0][0]                 \n",
            "                                                                 dropout_95[0][0]                 \n",
            "__________________________________________________________________________________________________\n",
            "conv2d_101 (Conv2D)             (None, 14, 14, 96)   83040       add_63[0][0]                     \n",
            "__________________________________________________________________________________________________\n",
            "batch_normalization_96 (BatchNo (None, 14, 14, 96)   384         conv2d_101[0][0]                 \n",
            "__________________________________________________________________________________________________\n",
            "activation_98 (Activation)      (None, 14, 14, 96)   0           batch_normalization_96[0][0]     \n",
            "__________________________________________________________________________________________________\n",
            "dropout_96 (Dropout)            (None, 14, 14, 96)   0           activation_98[0][0]              \n",
            "__________________________________________________________________________________________________\n",
            "add_64 (Add)                    (None, 14, 14, 96)   0           dropout_96[0][0]                 \n",
            "                                                                 dropout_95[0][0]                 \n",
            "                                                                 dropout_96[0][0]                 \n",
            "__________________________________________________________________________________________________\n",
            "conv2d_102 (Conv2D)             (None, 14, 14, 96)   83040       add_64[0][0]                     \n",
            "__________________________________________________________________________________________________\n",
            "batch_normalization_97 (BatchNo (None, 14, 14, 96)   384         conv2d_102[0][0]                 \n",
            "__________________________________________________________________________________________________\n",
            "activation_99 (Activation)      (None, 14, 14, 96)   0           batch_normalization_97[0][0]     \n",
            "__________________________________________________________________________________________________\n",
            "dropout_97 (Dropout)            (None, 14, 14, 96)   0           activation_99[0][0]              \n",
            "__________________________________________________________________________________________________\n",
            "max_pooling2d_18 (MaxPooling2D) (None, 7, 7, 96)     0           dropout_97[0][0]                 \n",
            "__________________________________________________________________________________________________\n",
            "conv2d_103 (Conv2D)             (None, 7, 7, 192)    166080      max_pooling2d_18[0][0]           \n",
            "__________________________________________________________________________________________________\n",
            "batch_normalization_98 (BatchNo (None, 7, 7, 192)    768         conv2d_103[0][0]                 \n",
            "__________________________________________________________________________________________________\n",
            "activation_100 (Activation)     (None, 7, 7, 192)    0           batch_normalization_98[0][0]     \n",
            "__________________________________________________________________________________________________\n",
            "dropout_98 (Dropout)            (None, 7, 7, 192)    0           activation_100[0][0]             \n",
            "__________________________________________________________________________________________________\n",
            "add_65 (Add)                    (None, 7, 7, 192)    0           dropout_98[0][0]                 \n",
            "                                                                 dropout_98[0][0]                 \n",
            "__________________________________________________________________________________________________\n",
            "conv2d_104 (Conv2D)             (None, 7, 7, 192)    331968      add_65[0][0]                     \n",
            "__________________________________________________________________________________________________\n",
            "batch_normalization_99 (BatchNo (None, 7, 7, 192)    768         conv2d_104[0][0]                 \n",
            "__________________________________________________________________________________________________\n",
            "activation_101 (Activation)     (None, 7, 7, 192)    0           batch_normalization_99[0][0]     \n",
            "__________________________________________________________________________________________________\n",
            "dropout_99 (Dropout)            (None, 7, 7, 192)    0           activation_101[0][0]             \n",
            "__________________________________________________________________________________________________\n",
            "add_66 (Add)                    (None, 7, 7, 192)    0           dropout_99[0][0]                 \n",
            "                                                                 dropout_98[0][0]                 \n",
            "                                                                 dropout_99[0][0]                 \n",
            "__________________________________________________________________________________________________\n",
            "conv2d_105 (Conv2D)             (None, 7, 7, 192)    331968      add_66[0][0]                     \n",
            "__________________________________________________________________________________________________\n",
            "batch_normalization_100 (BatchN (None, 7, 7, 192)    768         conv2d_105[0][0]                 \n",
            "__________________________________________________________________________________________________\n",
            "activation_102 (Activation)     (None, 7, 7, 192)    0           batch_normalization_100[0][0]    \n",
            "__________________________________________________________________________________________________\n",
            "dropout_100 (Dropout)           (None, 7, 7, 192)    0           activation_102[0][0]             \n",
            "__________________________________________________________________________________________________\n",
            "conv2d_106 (Conv2D)             (None, 1, 1, 10)     94080       dropout_100[0][0]                \n",
            "__________________________________________________________________________________________________\n",
            "flatten_3 (Flatten)             (None, 10)           0           conv2d_106[0][0]                 \n",
            "__________________________________________________________________________________________________\n",
            "activation_103 (Activation)     (None, 10)           0           flatten_3[0][0]                  \n",
            "==================================================================================================\n",
            "Total params: 1,177,824\n",
            "Trainable params: 1,175,808\n",
            "Non-trainable params: 2,016\n",
            "__________________________________________________________________________________________________\n",
            "None\n",
            "2019-09-04 15:07:20.689460\n"
          ],
          "name": "stdout"
        }
      ]
    },
    {
      "cell_type": "code",
      "metadata": {
        "id": "TzdAYg1k9K7Z",
        "colab_type": "code",
        "colab": {
          "base_uri": "https://localhost:8080/",
          "height": 1000
        },
        "outputId": "56e1e198-f4c6-41b7-8abc-c238d71ba7ca"
      },
      "source": [
        "model.summary()\n",
        "\n",
        "print(datetime.datetime.now())"
      ],
      "execution_count": 26,
      "outputs": [
        {
          "output_type": "stream",
          "text": [
            "Model: \"model_7\"\n",
            "__________________________________________________________________________________________________\n",
            "Layer (type)                    Output Shape         Param #     Connected to                     \n",
            "==================================================================================================\n",
            "input_12 (InputLayer)           (None, 28, 28, 1)    0                                            \n",
            "__________________________________________________________________________________________________\n",
            "conv2d_97 (Conv2D)              (None, 28, 28, 48)   480         input_12[0][0]                   \n",
            "__________________________________________________________________________________________________\n",
            "batch_normalization_92 (BatchNo (None, 28, 28, 48)   192         conv2d_97[0][0]                  \n",
            "__________________________________________________________________________________________________\n",
            "activation_94 (Activation)      (None, 28, 28, 48)   0           batch_normalization_92[0][0]     \n",
            "__________________________________________________________________________________________________\n",
            "dropout_92 (Dropout)            (None, 28, 28, 48)   0           activation_94[0][0]              \n",
            "__________________________________________________________________________________________________\n",
            "add_61 (Add)                    (None, 28, 28, 48)   0           dropout_92[0][0]                 \n",
            "                                                                 dropout_92[0][0]                 \n",
            "__________________________________________________________________________________________________\n",
            "conv2d_98 (Conv2D)              (None, 28, 28, 48)   20784       add_61[0][0]                     \n",
            "__________________________________________________________________________________________________\n",
            "batch_normalization_93 (BatchNo (None, 28, 28, 48)   192         conv2d_98[0][0]                  \n",
            "__________________________________________________________________________________________________\n",
            "activation_95 (Activation)      (None, 28, 28, 48)   0           batch_normalization_93[0][0]     \n",
            "__________________________________________________________________________________________________\n",
            "dropout_93 (Dropout)            (None, 28, 28, 48)   0           activation_95[0][0]              \n",
            "__________________________________________________________________________________________________\n",
            "add_62 (Add)                    (None, 28, 28, 48)   0           dropout_93[0][0]                 \n",
            "                                                                 dropout_92[0][0]                 \n",
            "                                                                 dropout_93[0][0]                 \n",
            "__________________________________________________________________________________________________\n",
            "conv2d_99 (Conv2D)              (None, 28, 28, 48)   20784       add_62[0][0]                     \n",
            "__________________________________________________________________________________________________\n",
            "batch_normalization_94 (BatchNo (None, 28, 28, 48)   192         conv2d_99[0][0]                  \n",
            "__________________________________________________________________________________________________\n",
            "activation_96 (Activation)      (None, 28, 28, 48)   0           batch_normalization_94[0][0]     \n",
            "__________________________________________________________________________________________________\n",
            "dropout_94 (Dropout)            (None, 28, 28, 48)   0           activation_96[0][0]              \n",
            "__________________________________________________________________________________________________\n",
            "max_pooling2d_17 (MaxPooling2D) (None, 14, 14, 48)   0           dropout_94[0][0]                 \n",
            "__________________________________________________________________________________________________\n",
            "conv2d_100 (Conv2D)             (None, 14, 14, 96)   41568       max_pooling2d_17[0][0]           \n",
            "__________________________________________________________________________________________________\n",
            "batch_normalization_95 (BatchNo (None, 14, 14, 96)   384         conv2d_100[0][0]                 \n",
            "__________________________________________________________________________________________________\n",
            "activation_97 (Activation)      (None, 14, 14, 96)   0           batch_normalization_95[0][0]     \n",
            "__________________________________________________________________________________________________\n",
            "dropout_95 (Dropout)            (None, 14, 14, 96)   0           activation_97[0][0]              \n",
            "__________________________________________________________________________________________________\n",
            "add_63 (Add)                    (None, 14, 14, 96)   0           dropout_95[0][0]                 \n",
            "                                                                 dropout_95[0][0]                 \n",
            "__________________________________________________________________________________________________\n",
            "conv2d_101 (Conv2D)             (None, 14, 14, 96)   83040       add_63[0][0]                     \n",
            "__________________________________________________________________________________________________\n",
            "batch_normalization_96 (BatchNo (None, 14, 14, 96)   384         conv2d_101[0][0]                 \n",
            "__________________________________________________________________________________________________\n",
            "activation_98 (Activation)      (None, 14, 14, 96)   0           batch_normalization_96[0][0]     \n",
            "__________________________________________________________________________________________________\n",
            "dropout_96 (Dropout)            (None, 14, 14, 96)   0           activation_98[0][0]              \n",
            "__________________________________________________________________________________________________\n",
            "add_64 (Add)                    (None, 14, 14, 96)   0           dropout_96[0][0]                 \n",
            "                                                                 dropout_95[0][0]                 \n",
            "                                                                 dropout_96[0][0]                 \n",
            "__________________________________________________________________________________________________\n",
            "conv2d_102 (Conv2D)             (None, 14, 14, 96)   83040       add_64[0][0]                     \n",
            "__________________________________________________________________________________________________\n",
            "batch_normalization_97 (BatchNo (None, 14, 14, 96)   384         conv2d_102[0][0]                 \n",
            "__________________________________________________________________________________________________\n",
            "activation_99 (Activation)      (None, 14, 14, 96)   0           batch_normalization_97[0][0]     \n",
            "__________________________________________________________________________________________________\n",
            "dropout_97 (Dropout)            (None, 14, 14, 96)   0           activation_99[0][0]              \n",
            "__________________________________________________________________________________________________\n",
            "max_pooling2d_18 (MaxPooling2D) (None, 7, 7, 96)     0           dropout_97[0][0]                 \n",
            "__________________________________________________________________________________________________\n",
            "conv2d_103 (Conv2D)             (None, 7, 7, 192)    166080      max_pooling2d_18[0][0]           \n",
            "__________________________________________________________________________________________________\n",
            "batch_normalization_98 (BatchNo (None, 7, 7, 192)    768         conv2d_103[0][0]                 \n",
            "__________________________________________________________________________________________________\n",
            "activation_100 (Activation)     (None, 7, 7, 192)    0           batch_normalization_98[0][0]     \n",
            "__________________________________________________________________________________________________\n",
            "dropout_98 (Dropout)            (None, 7, 7, 192)    0           activation_100[0][0]             \n",
            "__________________________________________________________________________________________________\n",
            "add_65 (Add)                    (None, 7, 7, 192)    0           dropout_98[0][0]                 \n",
            "                                                                 dropout_98[0][0]                 \n",
            "__________________________________________________________________________________________________\n",
            "conv2d_104 (Conv2D)             (None, 7, 7, 192)    331968      add_65[0][0]                     \n",
            "__________________________________________________________________________________________________\n",
            "batch_normalization_99 (BatchNo (None, 7, 7, 192)    768         conv2d_104[0][0]                 \n",
            "__________________________________________________________________________________________________\n",
            "activation_101 (Activation)     (None, 7, 7, 192)    0           batch_normalization_99[0][0]     \n",
            "__________________________________________________________________________________________________\n",
            "dropout_99 (Dropout)            (None, 7, 7, 192)    0           activation_101[0][0]             \n",
            "__________________________________________________________________________________________________\n",
            "add_66 (Add)                    (None, 7, 7, 192)    0           dropout_99[0][0]                 \n",
            "                                                                 dropout_98[0][0]                 \n",
            "                                                                 dropout_99[0][0]                 \n",
            "__________________________________________________________________________________________________\n",
            "conv2d_105 (Conv2D)             (None, 7, 7, 192)    331968      add_66[0][0]                     \n",
            "__________________________________________________________________________________________________\n",
            "batch_normalization_100 (BatchN (None, 7, 7, 192)    768         conv2d_105[0][0]                 \n",
            "__________________________________________________________________________________________________\n",
            "activation_102 (Activation)     (None, 7, 7, 192)    0           batch_normalization_100[0][0]    \n",
            "__________________________________________________________________________________________________\n",
            "dropout_100 (Dropout)           (None, 7, 7, 192)    0           activation_102[0][0]             \n",
            "__________________________________________________________________________________________________\n",
            "conv2d_106 (Conv2D)             (None, 1, 1, 10)     94080       dropout_100[0][0]                \n",
            "__________________________________________________________________________________________________\n",
            "flatten_3 (Flatten)             (None, 10)           0           conv2d_106[0][0]                 \n",
            "__________________________________________________________________________________________________\n",
            "activation_103 (Activation)     (None, 10)           0           flatten_3[0][0]                  \n",
            "==================================================================================================\n",
            "Total params: 1,177,824\n",
            "Trainable params: 1,175,808\n",
            "Non-trainable params: 2,016\n",
            "__________________________________________________________________________________________________\n",
            "2019-09-04 15:07:25.186408\n"
          ],
          "name": "stdout"
        }
      ]
    },
    {
      "cell_type": "code",
      "metadata": {
        "id": "Zp6SuGrL9M3h",
        "colab_type": "code",
        "colab": {
          "base_uri": "https://localhost:8080/",
          "height": 34
        },
        "outputId": "e8b334f8-cc32-4ed8-a87e-a7c4b102ac60"
      },
      "source": [
        "model.compile(loss='categorical_crossentropy',\n",
        "             optimizer='adam',\n",
        "             metrics=['accuracy'])\n",
        "print(datetime.datetime.now())"
      ],
      "execution_count": 27,
      "outputs": [
        {
          "output_type": "stream",
          "text": [
            "2019-09-04 15:07:28.361813\n"
          ],
          "name": "stdout"
        }
      ]
    },
    {
      "cell_type": "code",
      "metadata": {
        "id": "4xWoKhPY9Of5",
        "colab_type": "code",
        "colab": {
          "base_uri": "https://localhost:8080/",
          "height": 489
        },
        "outputId": "b78ac033-e6b5-49fc-e22b-dbcb840fbd5a"
      },
      "source": [
        "model.fit(X_train, Y_train, batch_size=32, nb_epoch=10, verbose=1)\n",
        "print(datetime.datetime.now())"
      ],
      "execution_count": 28,
      "outputs": [
        {
          "output_type": "stream",
          "text": [
            "/usr/local/lib/python3.6/dist-packages/ipykernel_launcher.py:1: UserWarning: The `nb_epoch` argument in `fit` has been renamed `epochs`.\n",
            "  \"\"\"Entry point for launching an IPython kernel.\n",
            "W0904 15:07:30.070696 140084753061760 deprecation.py:323] From /usr/local/lib/python3.6/dist-packages/tensorflow/python/ops/math_grad.py:1250: add_dispatch_support.<locals>.wrapper (from tensorflow.python.ops.array_ops) is deprecated and will be removed in a future version.\n",
            "Instructions for updating:\n",
            "Use tf.where in 2.0, which has the same broadcast rule as np.where\n"
          ],
          "name": "stderr"
        },
        {
          "output_type": "stream",
          "text": [
            "Epoch 1/10\n",
            "60000/60000 [==============================] - 114s 2ms/step - loss: 0.1625 - acc: 0.9579\n",
            "Epoch 2/10\n",
            "60000/60000 [==============================] - 106s 2ms/step - loss: 0.0534 - acc: 0.9846\n",
            "Epoch 3/10\n",
            "60000/60000 [==============================] - 106s 2ms/step - loss: 0.0353 - acc: 0.9892\n",
            "Epoch 4/10\n",
            "60000/60000 [==============================] - 105s 2ms/step - loss: 0.0319 - acc: 0.9906\n",
            "Epoch 5/10\n",
            "60000/60000 [==============================] - 104s 2ms/step - loss: 0.0264 - acc: 0.9920\n",
            "Epoch 6/10\n",
            "60000/60000 [==============================] - 104s 2ms/step - loss: 0.0213 - acc: 0.9931\n",
            "Epoch 7/10\n",
            "60000/60000 [==============================] - 104s 2ms/step - loss: 0.0170 - acc: 0.9948\n",
            "Epoch 8/10\n",
            "60000/60000 [==============================] - 105s 2ms/step - loss: 0.0166 - acc: 0.9946\n",
            "Epoch 9/10\n",
            "60000/60000 [==============================] - 105s 2ms/step - loss: 0.0133 - acc: 0.9959\n",
            "Epoch 10/10\n",
            "60000/60000 [==============================] - 105s 2ms/step - loss: 0.0114 - acc: 0.9963\n",
            "2019-09-04 15:25:08.943728\n"
          ],
          "name": "stdout"
        }
      ]
    },
    {
      "cell_type": "code",
      "metadata": {
        "id": "AtsH-lLk-eLb",
        "colab_type": "code",
        "colab": {
          "base_uri": "https://localhost:8080/",
          "height": 34
        },
        "outputId": "32a67508-dcb9-4ba4-8faa-f0bf5f299c35"
      },
      "source": [
        "score = model.evaluate(X_test, Y_test, verbose=0)\n",
        "print(datetime.datetime.now())"
      ],
      "execution_count": 29,
      "outputs": [
        {
          "output_type": "stream",
          "text": [
            "2019-09-04 15:26:15.516140\n"
          ],
          "name": "stdout"
        }
      ]
    },
    {
      "cell_type": "code",
      "metadata": {
        "id": "mkX8JMv79q9r",
        "colab_type": "code",
        "colab": {
          "base_uri": "https://localhost:8080/",
          "height": 52
        },
        "outputId": "b780cb8e-5ba1-4b9e-b8b8-38d62249492e"
      },
      "source": [
        "print(score)\n",
        "print(datetime.datetime.now())"
      ],
      "execution_count": 30,
      "outputs": [
        {
          "output_type": "stream",
          "text": [
            "[0.025995597126563734, 0.9915]\n",
            "2019-09-04 15:26:17.903150\n"
          ],
          "name": "stdout"
        }
      ]
    },
    {
      "cell_type": "code",
      "metadata": {
        "id": "8FAZNN634i92",
        "colab_type": "code",
        "colab": {}
      },
      "source": [
        ""
      ],
      "execution_count": 0,
      "outputs": []
    }
  ]
}